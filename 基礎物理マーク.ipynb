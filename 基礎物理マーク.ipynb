{
 "cells": [
  {
   "cell_type": "code",
   "execution_count": 1,
   "metadata": {},
   "outputs": [],
   "source": [
    "import glob"
   ]
  },
  {
   "cell_type": "code",
   "execution_count": 116,
   "metadata": {
    "scrolled": false
   },
   "outputs": [],
   "source": [
    "import cv2\n",
    "import numpy as np\n",
    "from matplotlib import pyplot as plt\n",
    "\n",
    "#mark　sheetの内容=========\n",
    "kumi_list=np.array(\n",
    "     [\"A_B\",\"C_D\",\"E_F\",\"G_H\",\"I_J\",\"K_L\",\"M_N\",\"O_P\",\"Q_R\",\"S_T\"]\n",
    ")\n",
    "group_list=np.array(\n",
    "     [\"1_2\",\"3_4\",\"5\",\"6\",\"7,8\",\"9,10\"]\n",
    ")\n",
    "ans_list = np.array(\n",
    "     [1,2,3]\n",
    ")\n",
    "#===========================\n",
    "\n",
    "def my_mark(fig_name):\n",
    "    #画像の読み込み\n",
    "    img_gray = cv2.GaussianBlur(cv2.imread(fig_name,0),(5,5),0) #マークシート\n",
    "    template_s = cv2.imread('star.jpg',0) #位置合わせ★\n",
    "    template_t = cv2.imread('tri.jpg',0) #位置合わせ▼\n",
    "\n",
    "    #位置合わせ画像のサイズ\n",
    "    ws, hs = template_s.shape[::-1]\n",
    "    wt, ht = template_t.shape[::-1]\n",
    "\n",
    "    #位置合わせ記号の座標取得\n",
    "    res_s = cv2.matchTemplate(img_gray,template_s,cv2.TM_CCOEFF_NORMED)\n",
    "    res_t = cv2.matchTemplate(img_gray,template_t,cv2.TM_CCOEFF_NORMED)\n",
    "\n",
    "    #マッチング閾値（1が厳しい、0が緩い）\n",
    "    threshold = 0.8\n",
    "\n",
    "    ###座標の重複削除###\n",
    "    loc_s = np.sort(np.where( res_s >= threshold) ,axis=1)\n",
    "    loc_t = np.sort(np.where( res_t >= threshold) ,axis=1)\n",
    "\n",
    "    diff_s = loc_s[0][1:]-loc_s[0][:-1]\n",
    "    diff_t = loc_t[1][1:]-loc_t[1][:-1]\n",
    "\n",
    "    loc_s = np.delete(loc_s, np.where(diff_s<hs)[0],axis=1)\n",
    "    loc_t =np.delete(loc_t, np.where(diff_t<wt)[0],axis=1)\n",
    "    \n",
    "    \n",
    "    ###画像処理###\n",
    "\n",
    "    ### 50を閾値として2値化\n",
    "    res, img = cv2.threshold(img_gray, 50, 255, cv2.THRESH_BINARY+cv2.THRESH_OTSU)\n",
    "    ### 白黒反転\n",
    "    img = 255 - img\n",
    "\n",
    "    ###マーク読み取り###\n",
    "\n",
    "    info = []#組、班\n",
    "    result_tot = []#結果を入れる配列\n",
    "\n",
    "    if len(loc_s[0])==23 and len(loc_t[1])== 18:\n",
    "        for row in range(23):\n",
    "            if row > 0: \n",
    "                result = []#結果を入れる配列\n",
    "                #各マーク領域の画像の合計値を求める\n",
    "                for theme in range(6):\n",
    "                    temp = []\n",
    "                    area_sum = [] # 合計値を入れる配列\n",
    "                    \n",
    "                    for col in range(3):\n",
    "                        area_sum.append(\n",
    "                            np.sum(\n",
    "                                img[loc_s[0][row]:loc_s[0][row]+wt\n",
    "                                    ,loc_t[1][3*theme+col]:loc_t[1][3*theme+col]+hs]\n",
    "                            )\n",
    "                        )\n",
    "                    temp.append(area_sum > np.median(area_sum) * 3)\n",
    "                \n",
    "                    if len(ans_list[temp]) > 1:\n",
    "                        result.append(\"*複*：{}\".format('_'.join(map(str,ans_list[temp]))))\n",
    "                    elif len(ans_list[temp]) < 1:\n",
    "                        result.append(\"=未=\")\n",
    "                    else:\n",
    "                        result.append(ans_list[temp][0])\n",
    "                \n",
    "                result_tot.append(result)\n",
    "            else:\n",
    "                area_sum = [] # 合計値を入れる配列\n",
    "                for col in range(10):\n",
    "                    area_sum.append(\n",
    "                        np.sum(\n",
    "                            img[loc_s[0][row]:loc_s[0][row]+wt,\n",
    "                                loc_t[1][col]:loc_t[1][col]+hs]\n",
    "                            )\n",
    "                        )\n",
    "                info.append(kumi_list[area_sum > np.median(area_sum) * 3][0])\n",
    "                \n",
    "                area_sum = [] # 合計値を入れる配列\n",
    "                for col in range(6):\n",
    "                    area_sum.append(\n",
    "                        np.sum(\n",
    "                            img[loc_s[0][row]:loc_s[0][row]+wt,\n",
    "                                loc_t[1][col+12]:loc_t[1][col+12]+hs]\n",
    "                            )\n",
    "                        )\n",
    "                info.append(group_list[area_sum > np.median(area_sum) * 3][0])\n",
    "        \n",
    "        return(info,result_tot)\n",
    "    else:\n",
    "        return(\"error\")"
   ]
  },
  {
   "cell_type": "code",
   "execution_count": 128,
   "metadata": {
    "scrolled": false
   },
   "outputs": [],
   "source": [
    "col_title = [\n",
    "    \"単振り子,連成振動,オシロスコープ,半導体素子,電気抵抗,光の干渉\",\n",
    "    \"単振り子,オシロスコープ,半導体素子,電気抵抗,光の干渉,連成振動\",\n",
    "    \"単振り子,半導体素子,電気抵抗,光の干渉,連成振動,オシロスコープ\",\n",
    "    \"単振り子,電気抵抗,光の干渉,連成振動,オシロスコープ,半導体素子\",\n",
    "    \"単振り子,光の干渉,連成振動,オシロスコープ,半導体素子,電気抵抗\"\n",
    "]\n",
    "\n",
    "with open(\"scan.csv\", \"w\") as f:\n",
    "    for filename in glob.glob(\"scans/*.jpg\"):\n",
    "        info, res = my_mark(filename)\n",
    "    \n",
    "        print(\"{}組_{}班\".format(info[0],info[1]), file=f)\n",
    "        \n",
    "        print(col_title[np.where(group_list == info[1])[0][0]],file=f)\n",
    "    \n",
    "        for temp in res:\n",
    "            print(\",\".join(map(str,temp)),file=f)"
   ]
  },
  {
   "cell_type": "code",
   "execution_count": 129,
   "metadata": {},
   "outputs": [
    {
     "data": {
      "text/plain": [
       "['A_B', '1_2']"
      ]
     },
     "execution_count": 129,
     "metadata": {},
     "output_type": "execute_result"
    }
   ],
   "source": [
    "info"
   ]
  },
  {
   "cell_type": "code",
   "execution_count": 130,
   "metadata": {},
   "outputs": [
    {
     "data": {
      "text/plain": [
       "[[1, 1, 2, 2, 1, 2],\n",
       " [2, 2, 2, 1, 2, 2],\n",
       " [2, 3, 1, 1, 1, 1],\n",
       " [1, 2, 2, 2, 2, 3],\n",
       " [3, 2, 2, 1, 1, 2],\n",
       " [2, 1, 1, 1, 1, 1],\n",
       " [3, 2, 1, 1, 1, 1],\n",
       " ['=未=', '=未=', '=未=', '=未=', '=未=', '=未='],\n",
       " ['=未=', '=未=', '=未=', '=未=', '=未=', '=未='],\n",
       " ['=未=', '=未=', '=未=', '=未=', '=未=', '=未='],\n",
       " ['=未=', '=未=', '=未=', '=未=', '=未=', '=未='],\n",
       " ['=未=', '=未=', '=未=', '=未=', '=未=', '=未='],\n",
       " [2, 2, 1, 1, 3, 1],\n",
       " [1, 1, 2, 1, 1, 2],\n",
       " [3, 2, 1, 2, 1, 1],\n",
       " [2, 1, 1, 1, 1, 3],\n",
       " [1, 1, 2, 1, 3, 1],\n",
       " [2, 2, 2, 2, 2, 2],\n",
       " [3, 1, 1, 2, 1, 1],\n",
       " ['=未=', '=未=', '=未=', '=未=', '=未=', '=未='],\n",
       " ['=未=', '=未=', '=未=', '=未=', '=未=', '=未='],\n",
       " ['=未=', '=未=', '=未=', '=未=', '=未=', '=未=']]"
      ]
     },
     "execution_count": 130,
     "metadata": {},
     "output_type": "execute_result"
    }
   ],
   "source": [
    "res"
   ]
  },
  {
   "cell_type": "code",
   "execution_count": null,
   "metadata": {},
   "outputs": [],
   "source": []
  }
 ],
 "metadata": {
  "kernelspec": {
   "display_name": "Python 3",
   "language": "python",
   "name": "python3"
  },
  "language_info": {
   "codemirror_mode": {
    "name": "ipython",
    "version": 3
   },
   "file_extension": ".py",
   "mimetype": "text/x-python",
   "name": "python",
   "nbconvert_exporter": "python",
   "pygments_lexer": "ipython3",
   "version": "3.5.5"
  }
 },
 "nbformat": 4,
 "nbformat_minor": 2
}
